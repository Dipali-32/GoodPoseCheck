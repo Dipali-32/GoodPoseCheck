{
 "cells": [
  {
   "cell_type": "code",
   "execution_count": 1,
   "id": "b5ef73dc-8a7e-47e7-ae14-887742142ef6",
   "metadata": {},
   "outputs": [
    {
     "name": "stdout",
     "output_type": "stream",
     "text": [
      "Keypoints saved successfully.\n"
     ]
    },
    {
     "name": "stderr",
     "output_type": "stream",
     "text": [
      "C:\\Users\\hp\\AppData\\Local\\Programs\\Python\\Python311\\Lib\\site-packages\\google\\protobuf\\symbol_database.py:55: UserWarning: SymbolDatabase.GetPrototype() is deprecated. Please use message_factory.GetMessageClass() instead. SymbolDatabase.GetPrototype() will be removed soon.\n",
      "  warnings.warn('SymbolDatabase.GetPrototype() is deprecated. Please '\n"
     ]
    }
   ],
   "source": [
    "import cv2\n",
    "import mediapipe as mp\n",
    "import json\n",
    "\n",
    "# Initialize pose model\n",
    "mp_pose = mp.solutions.pose\n",
    "pose = mp_pose.Pose(static_image_mode=True)\n",
    "mp_drawing = mp.solutions.drawing_utils\n",
    "\n",
    "# Load and process the reference image\n",
    "image = cv2.imread('trianglepose.jpg')\n",
    "image_rgb = cv2.cvtColor(image, cv2.COLOR_BGR2RGB)\n",
    "result = pose.process(image_rgb)\n",
    "\n",
    "# Extract keypoints and save them\n",
    "if result.pose_landmarks:\n",
    "    keypoints = [{'x': lm.x, 'y': lm.y, 'z': lm.z, 'visibility': lm.visibility} for lm in result.pose_landmarks.landmark]\n",
    "    with open('reference_keypoints.json', 'w') as f:\n",
    "        json.dump(keypoints, f)\n",
    "    print(\"Keypoints saved successfully.\")\n",
    "else:\n",
    "    print(\"No pose detected.\")\n"
   ]
  },
  {
   "cell_type": "code",
   "execution_count": 2,
   "id": "acde5206-d39a-4635-9baa-0f32d85c949d",
   "metadata": {},
   "outputs": [
    {
     "name": "stdout",
     "output_type": "stream",
     "text": [
      "Camera released and window closed.\n"
     ]
    }
   ],
   "source": [
    "import cv2\n",
    "import mediapipe as mp\n",
    "import json\n",
    "import math\n",
    "import pyttsx3\n",
    "\n",
    "# Load reference keypoints (example JSON file containing reference points)\n",
    "with open('reference_keypoints.json', 'r') as f:\n",
    "    reference_keypoints = json.load(f)\n",
    "\n",
    "# Function to calculate Euclidean distance between two points\n",
    "def calculate_distance(point1, point2):\n",
    "    return math.sqrt((point1['x'] - point2['x'])**2 + (point1['y'] - point2['y'])**2)\n",
    "\n",
    "# Initialize MediaPipe Pose model\n",
    "mp_pose = mp.solutions.pose\n",
    "pose = mp_pose.Pose()\n",
    "cap = cv2.VideoCapture(0)\n",
    "\n",
    "# Initialize the pyttsx3 engine for text-to-speech\n",
    "engine = pyttsx3.init()\n",
    "\n",
    "# Function to give audio feedback\n",
    "def give_audio_feedback(message):\n",
    "    engine.say(message)\n",
    "    engine.runAndWait()\n",
    "\n",
    "# Function to show the result in a separate window\n",
    "def show_result(frame, pose_status, color=(0, 255, 0), similarity=None):\n",
    "    # Display similarity if available\n",
    "    if similarity is not None:\n",
    "        accuracy_text = f\"Accuracy: {similarity:.2f}%\"\n",
    "        cv2.putText(frame, accuracy_text, (10, 100), cv2.FONT_HERSHEY_SIMPLEX, 0.8, (255, 255, 255), 2)\n",
    "\n",
    "    cv2.putText(frame, pose_status, (10, 60), cv2.FONT_HERSHEY_SIMPLEX, 1, color, 2)\n",
    "    cv2.imshow('Pose Detection', frame)  # This will display the frame in a separate window\n",
    "\n",
    "try:\n",
    "    while cap.isOpened():\n",
    "        ret, frame = cap.read()\n",
    "        if not ret:\n",
    "            break\n",
    "        \n",
    "        # Convert frame to RGB (required by MediaPipe)\n",
    "        frame_rgb = cv2.cvtColor(frame, cv2.COLOR_BGR2RGB)\n",
    "        result = pose.process(frame_rgb)\n",
    "        \n",
    "        if result.pose_landmarks:\n",
    "            # Get the keypoints of the detected pose\n",
    "            current_keypoints = [{'x': lm.x, 'y': lm.y, 'z': lm.z, 'visibility': lm.visibility} for lm in result.pose_landmarks.landmark]\n",
    "            \n",
    "            # Calculate similarity score between the current pose and reference pose\n",
    "            match_count = 0\n",
    "            for ref, cur in zip(reference_keypoints, current_keypoints):\n",
    "                distance = calculate_distance(ref, cur)\n",
    "                if distance < 0.1:  # Adjust threshold for similarity as needed\n",
    "                    match_count += 1\n",
    "            \n",
    "            similarity = (match_count / len(reference_keypoints)) * 100\n",
    "            pose_status = 'Pose Correct' if similarity > 70 else 'Pose Incorrect'\n",
    "            \n",
    "            # Green if correct pose, Red if incorrect pose\n",
    "            color = (0, 255, 0) if similarity > 70 else (0, 0, 255)\n",
    "            \n",
    "            # Give audio feedback only when the pose is correct\n",
    "            if similarity > 70:\n",
    "                give_audio_feedback(\"You are doing great!\")\n",
    "            \n",
    "            # Show the result (pose status) and accuracy in the separate window\n",
    "            show_result(frame, pose_status, color, similarity)\n",
    "\n",
    "        # Break the loop if 'q' key is pressed\n",
    "        if cv2.waitKey(1) & 0xFF == ord('q'):\n",
    "            break\n",
    "\n",
    "finally:\n",
    "    # Release the camera and close the window\n",
    "    cap.release()\n",
    "    cv2.destroyAllWindows()\n",
    "    print(\"Camera released and window closed.\")\n"
   ]
  },
  {
   "cell_type": "code",
   "execution_count": null,
   "id": "d7179be9-d441-46b4-8f0f-63175eeda490",
   "metadata": {},
   "outputs": [],
   "source": []
  }
 ],
 "metadata": {
  "kernelspec": {
   "display_name": "Python 3 (ipykernel)",
   "language": "python",
   "name": "python3"
  },
  "language_info": {
   "codemirror_mode": {
    "name": "ipython",
    "version": 3
   },
   "file_extension": ".py",
   "mimetype": "text/x-python",
   "name": "python",
   "nbconvert_exporter": "python",
   "pygments_lexer": "ipython3",
   "version": "3.11.3"
  }
 },
 "nbformat": 4,
 "nbformat_minor": 5
}
